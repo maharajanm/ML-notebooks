{
  "nbformat": 4,
  "nbformat_minor": 0,
  "metadata": {
    "colab": {
      "provenance": [],
      "authorship_tag": "ABX9TyOv1Wj4hKdC7tbZOAze0F0p",
      "include_colab_link": true
    },
    "kernelspec": {
      "name": "python3",
      "display_name": "Python 3"
    },
    "language_info": {
      "name": "python"
    }
  },
  "cells": [
    {
      "cell_type": "markdown",
      "metadata": {
        "id": "view-in-github",
        "colab_type": "text"
      },
      "source": [
        "<a href=\"https://colab.research.google.com/github/maharajanm/ML-notebooks/blob/main/vectorization_compare_forloop.ipynb\" target=\"_parent\"><img src=\"https://colab.research.google.com/assets/colab-badge.svg\" alt=\"Open In Colab\"/></a>"
      ]
    },
    {
      "cell_type": "code",
      "execution_count": 1,
      "metadata": {
        "colab": {
          "base_uri": "https://localhost:8080/"
        },
        "id": "f9-xLeyB-7mB",
        "outputId": "631a58aa-8eb8-4362-b15c-b72f82e1b6ce"
      },
      "outputs": [
        {
          "output_type": "stream",
          "name": "stdout",
          "text": [
            "np.dot(a, b) =  2501072.5817\n",
            "Vectorized version duration: 14.2784 ms \n",
            "my_dot(a, b) =  2501072.5817\n",
            "loop version duration: 8977.3617 ms \n"
          ]
        }
      ],
      "source": [
        "import numpy as np\n",
        "import time\n",
        "\n",
        "def my_dot(a, b): \n",
        "    x=0\n",
        "    for i in range(a.shape[0]):\n",
        "        x = x + a[i] * b[i]\n",
        "    return x\n",
        "\n",
        "np.random.seed(1)\n",
        "a = np.random.rand(10000000)  # very large arrays\n",
        "b = np.random.rand(10000000)\n",
        "\n",
        "tic = time.time()  # capture start time\n",
        "c = np.dot(a, b)\n",
        "toc = time.time()  # capture end time\n",
        "\n",
        "print(f\"np.dot(a, b) =  {c:.4f}\")\n",
        "print(f\"Vectorized version duration: {1000*(toc-tic):.4f} ms \")\n",
        "\n",
        "tic = time.time()  # capture start time\n",
        "c = my_dot(a,b)\n",
        "toc = time.time()  # capture end time\n",
        "\n",
        "print(f\"my_dot(a, b) =  {c:.4f}\")\n",
        "print(f\"loop version duration: {1000*(toc-tic):.4f} ms \")\n",
        "\n",
        "del(a);del(b)  #remove these big arrays from memory"
      ]
    }
  ]
}