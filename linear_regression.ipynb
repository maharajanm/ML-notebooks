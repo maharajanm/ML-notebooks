{
  "nbformat": 4,
  "nbformat_minor": 0,
  "metadata": {
    "colab": {
      "provenance": [],
      "authorship_tag": "ABX9TyM0h9m5afv5HLUygGUu4yXR",
      "include_colab_link": true
    },
    "kernelspec": {
      "name": "python3",
      "display_name": "Python 3"
    },
    "language_info": {
      "name": "python"
    }
  },
  "cells": [
    {
      "cell_type": "markdown",
      "metadata": {
        "id": "view-in-github",
        "colab_type": "text"
      },
      "source": [
        "<a href=\"https://colab.research.google.com/github/maharajanm/ML-notebooks/blob/main/linear_regression.ipynb\" target=\"_parent\"><img src=\"https://colab.research.google.com/assets/colab-badge.svg\" alt=\"Open In Colab\"/></a>"
      ]
    },
    {
      "cell_type": "code",
      "execution_count": null,
      "metadata": {
        "id": "aL85uGjMtnjq"
      },
      "outputs": [],
      "source": [
        "import numpy as np\n",
        "import matplotlib.pyplot as plt\n",
        "# plt.style.use('./deeplearning.mplstyle')\n",
        "\n",
        "# training data\n",
        "x_train = np.array([1.0, 2.0, 5.0])\n",
        "y_train = np.array([300.0, 500.0, 800.0])\n",
        "print(f\"Number of training examples: {len(x_train)}\")\n",
        "\n",
        "\n",
        "# plot the data points and vizualize\n",
        "plt.scatter(x_train, y_train, marker='x', c='r')\n",
        "# set title\n",
        "plt.title(\"Housing prices:\")\n",
        "# set y-axis lable\n",
        "plt.ylabel('Price in 1000s of dollars')\n",
        "# set the x-axis label\n",
        "plt.xlabel('size in 1000 sqft')\n",
        "plt.show()\n",
        "\n",
        "# linear regression formula\n",
        "def compute_model(x, w, b):\n",
        "  m = len(x);\n",
        "  results = np.zeros(m)\n",
        "  for i in range(m):\n",
        "    results[i] = w * x[i] + b\n",
        "\n",
        "  return results\n",
        "\n",
        "# set weight and \n",
        "w = 200\n",
        "b = 100\n",
        "\n",
        "# call the compute method\n",
        "results = compute_model(x_train, w, b)\n",
        "\n",
        "plt.plot(x_train, results, c='b', label='our prediction')\n",
        "\n",
        "plt.scatter(x_train, y_train, marker='x', c='r', label='Actual values')\n",
        "# Set the title\n",
        "plt.title(\"Housing Prices\")\n",
        "# Set the y-axis label\n",
        "plt.ylabel('Price (in 1000s of dollars)')\n",
        "# Set the x-axis label\n",
        "plt.xlabel('Size (1000 sqft)')\n",
        "plt.legend()\n",
        "plt.show()"
      ]
    }
  ]
}