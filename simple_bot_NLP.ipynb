{
  "nbformat": 4,
  "nbformat_minor": 0,
  "metadata": {
    "colab": {
      "provenance": [],
      "authorship_tag": "ABX9TyOhTPYzL9D4dM5Qd623CNMb",
      "include_colab_link": true
    },
    "kernelspec": {
      "name": "python3",
      "display_name": "Python 3"
    },
    "language_info": {
      "name": "python"
    }
  },
  "cells": [
    {
      "cell_type": "markdown",
      "metadata": {
        "id": "view-in-github",
        "colab_type": "text"
      },
      "source": [
        "<a href=\"https://colab.research.google.com/github/maharajanm/ML-notebooks/blob/main/simple_bot_NLP.ipynb\" target=\"_parent\"><img src=\"https://colab.research.google.com/assets/colab-badge.svg\" alt=\"Open In Colab\"/></a>"
      ]
    },
    {
      "cell_type": "code",
      "execution_count": null,
      "metadata": {
        "id": "IkmpkSHWtGuy"
      },
      "outputs": [],
      "source": [
        "import random\n",
        "\n",
        "# This list contains the random responses (you can add your own or translate them into your own language too)\n",
        "random_responses = [\"That is quite interesting, please tell me more.\",\n",
        "                    \"I see. Do go on.\",\n",
        "                    \"Why do you say that?\",\n",
        "                    \"Funny weather we've been having, isn't it?\",\n",
        "                    \"Let's change the subject.\",\n",
        "                    \"Did you catch the game last night?\"]\n",
        "\n",
        "print(\"Hello, I am Marvin, the simple robot.\")\n",
        "print(\"You can end this conversation at any time by typing 'bye'\")\n",
        "print(\"After typing each answer, press 'enter'\")\n",
        "print(\"How are you today?\")\n",
        "\n",
        "while True:\n",
        "    # wait for the user to enter some text\n",
        "    user_input = input(\"> \")\n",
        "    if user_input.lower() == \"bye\":\n",
        "        # if they typed in 'bye' (or even BYE, ByE, byE etc.), break out of the loop\n",
        "        break\n",
        "    else:\n",
        "        response = random.choices(random_responses)[0]\n",
        "    print(response)\n",
        "\n",
        "print(\"It was nice talking to you, goodbye!\")"
      ]
    }
  ]
}